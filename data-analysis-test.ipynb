{
 "cells": [
  {
   "cell_type": "code",
   "execution_count": 1,
   "id": "abe61229-a8ea-4ab9-8cc2-a995f7a3b0af",
   "metadata": {},
   "outputs": [
    {
     "name": "stdout",
     "output_type": "stream",
     "text": [
      "  Company Name  Year  Total Revenue  Net Income  Revenue Growth (%)  \\\n",
      "0        Apple  2025        2345111     2345222            0.000000   \n",
      "1        Apple  2024        2345333     2345444            0.009467   \n",
      "2        Apple  2023        2345555     2345666            0.009466   \n",
      "3        Tesla  2025        2345777     2345888            0.000000   \n",
      "4        Tesla  2024        2345999     2345000            0.009464   \n",
      "5        Tesla  2023        3456000     3456111           47.314641   \n",
      "6    Microsoft  2025        3456222     3456333            0.000000   \n",
      "7    Microsoft  2024        3456444     3456555            0.006423   \n",
      "8    Microsoft  2023        3456666     3456777            0.006423   \n",
      "\n",
      "   Net Income Growth (%)  \n",
      "0               0.000000  \n",
      "1               0.009466  \n",
      "2               0.009465  \n",
      "3               0.000000  \n",
      "4              -0.037853  \n",
      "5              47.382132  \n",
      "6               0.000000  \n",
      "7               0.006423  \n",
      "8               0.006423  \n",
      "\n",
      "Year-over-Year Average Growth Rates (%):\n",
      "  Company Name  Revenue Growth (%)  Net Income Growth (%)\n",
      "0        Apple            0.006311               0.006310\n",
      "1    Microsoft            0.004282               0.004282\n",
      "2        Tesla           15.774702              15.781426\n"
     ]
    }
   ],
   "source": [
    "import pandas as pd\n",
    "\n",
    "# Load the data from the Excel spreadsheet\n",
    "file_path = '/Users/cherylfernandes/Documents/AI-Projects/BCG-X/10KSampleData.xlsx'\n",
    "df = pd.read_excel(file_path)\n",
    "\n",
    "# Calculate year-over-year growth rates for Total Revenue and Net Income\n",
    "df['Revenue Growth (%)'] = df.groupby('Company Name')['Total Revenue'].pct_change() * 100\n",
    "df['Net Income Growth (%)'] = df.groupby('Company Name')['Net Income'].pct_change() * 100\n",
    "\n",
    "# Fill NA values that result from pct_change calculations with 0 or an appropriate value\n",
    "df.fillna(0, inplace=True)\n",
    "\n",
    "# Display the dataframe to verify the calculations\n",
    "print(df)\n",
    "\n",
    "# Optionally, you could summarize these findings for each company\n",
    "summary = df.groupby('Company Name').agg({\n",
    "    'Revenue Growth (%)': 'mean',\n",
    "    'Net Income Growth (%)': 'mean'\n",
    "}).reset_index()\n",
    "\n",
    "print(\"\\nYear-over-Year Average Growth Rates (%):\")\n",
    "print(summary)\n"
   ]
  },
  {
   "cell_type": "code",
   "execution_count": null,
   "id": "3c8dca1a-326d-43a6-afba-00c925358061",
   "metadata": {},
   "outputs": [],
   "source": []
  }
 ],
 "metadata": {
  "kernelspec": {
   "display_name": "Python 3 (ipykernel)",
   "language": "python",
   "name": "python3"
  },
  "language_info": {
   "codemirror_mode": {
    "name": "ipython",
    "version": 3
   },
   "file_extension": ".py",
   "mimetype": "text/x-python",
   "name": "python",
   "nbconvert_exporter": "python",
   "pygments_lexer": "ipython3",
   "version": "3.12.11"
  }
 },
 "nbformat": 4,
 "nbformat_minor": 5
}
